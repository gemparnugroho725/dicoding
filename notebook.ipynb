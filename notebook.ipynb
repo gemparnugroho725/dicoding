{
 "cells": [
  {
   "cell_type": "markdown",
   "metadata": {
    "id": "H9wADwK78DCz"
   },
   "source": [
    "# Proyek Analisis Data: [Input Nama Dataset]\n",
    "- **Nama:** [Gempar Cahyo Nugroho]\n",
    "- **Email:** [gemparnugroho725@gmail.com]\n",
    "- **ID Dicoding:** [gempar_12]"
   ]
  },
  {
   "cell_type": "markdown",
   "metadata": {
    "id": "eE0raob58DC0"
   },
   "source": [
    "## Menentukan Pertanyaan Bisnis"
   ]
  },
  {
   "cell_type": "markdown",
   "metadata": {
    "id": "GmQeQ5YF8DC0"
   },
   "source": [
    "- Berapa rata-rata jumlah penyewaan sepeda setiap bulan, dan bagaimana pola musiman memengaruhinya?\n",
    "- Berapa rata-rata jumlah penyewaan sepeda setiap bulan, dan bagaimana pola cuaca memengaruhinya?"
   ]
  },
  {
   "cell_type": "markdown",
   "metadata": {
    "id": "H-z4QGlO8DC1"
   },
   "source": [
    "## Import Semua Packages/Library yang Digunakan"
   ]
  },
  {
   "cell_type": "code",
   "execution_count": null,
   "metadata": {
    "id": "FVYwaObI8DC1"
   },
   "outputs": [
    {
     "ename": "",
     "evalue": "",
     "output_type": "error",
     "traceback": [
      "\u001b[1;31mRunning cells with 'Python 3.13.0' requires the ipykernel package.\n",
      "\u001b[1;31mRun the following command to install 'ipykernel' into the Python environment. \n",
      "\u001b[1;31mCommand: 'c:/Users/Gempa/AppData/Local/Programs/Python/Python313/python.exe -m pip install ipykernel -U --user --force-reinstall'"
     ]
    }
   ],
   "source": [
    "import numpy as np\n",
    "import pandas as pd\n",
    "import matplotlib.pyplot as plt\n",
    "import seaborn as sns"
   ]
  },
  {
   "cell_type": "markdown",
   "metadata": {
    "id": "h_Sh51Xy8DC1"
   },
   "source": [
    "## Data Wrangling"
   ]
  },
  {
   "cell_type": "markdown",
   "metadata": {
    "id": "sXU2GBYu8DC1"
   },
   "source": [
    "### Gathering Data"
   ]
  },
  {
   "cell_type": "code",
   "execution_count": null,
   "metadata": {
    "id": "zjCBk1BI8DC1",
    "scrolled": true
   },
   "outputs": [],
   "source": [
    "#membaca day\n",
    "day_df = pd.read_csv(\"day.csv\")\n",
    "day_df.head()"
   ]
  },
  {
   "cell_type": "code",
   "execution_count": null,
   "metadata": {
    "scrolled": true
   },
   "outputs": [],
   "source": [
    "#membaca hours\n",
    "hour_df = pd.read_csv(\"hour.csv\")\n",
    "hour_df.head()"
   ]
  },
  {
   "cell_type": "markdown",
   "metadata": {
    "id": "7dtxhAPrkhPL"
   },
   "source": [
    "**Insight:**\n",
    "- Kolom temp, atemp, hum, dan windspeed berisi nilai yang dinormalisasi dalam rentang 0-1, sehingga perlu dikembalikan ke satuan aslinya."
   ]
  },
  {
   "cell_type": "markdown",
   "metadata": {
    "id": "FHSiqaZp8DC1"
   },
   "source": [
    "### Assessing Data"
   ]
  },
  {
   "cell_type": "code",
   "execution_count": null,
   "metadata": {
    "id": "ax-3tEjc9Cj1"
   },
   "outputs": [],
   "source": [
    "day_df.info()"
   ]
  },
  {
   "cell_type": "code",
   "execution_count": null,
   "metadata": {},
   "outputs": [],
   "source": [
    "day_df.isna().sum()"
   ]
  },
  {
   "cell_type": "code",
   "execution_count": null,
   "metadata": {},
   "outputs": [],
   "source": [
    "print(\"Jumlah duplikasi: \", day_df.duplicated().sum())"
   ]
  },
  {
   "cell_type": "code",
   "execution_count": null,
   "metadata": {},
   "outputs": [],
   "source": [
    "day_df.describe()"
   ]
  },
  {
   "cell_type": "code",
   "execution_count": null,
   "metadata": {},
   "outputs": [],
   "source": [
    "hour_df.info()"
   ]
  },
  {
   "cell_type": "code",
   "execution_count": null,
   "metadata": {},
   "outputs": [],
   "source": [
    "hour_df.isna().sum()"
   ]
  },
  {
   "cell_type": "code",
   "execution_count": null,
   "metadata": {},
   "outputs": [],
   "source": [
    "print(\"Jumlah duplikasi: \", hour_df.duplicated().sum())"
   ]
  },
  {
   "cell_type": "code",
   "execution_count": null,
   "metadata": {},
   "outputs": [],
   "source": [
    "hour_df.describe()"
   ]
  },
  {
   "cell_type": "markdown",
   "metadata": {
    "id": "7dtxhAPrkhPL"
   },
   "source": [
    "**Insight:**\n",
    "- Kolom dteday masih bertipe object dan memerlukan konversi ke tipe datetime agar lebih mudah digunakan untuk analisis waktu."
   ]
  },
  {
   "cell_type": "markdown",
   "metadata": {
    "id": "EhN5R4hr8DC1"
   },
   "source": [
    "### Cleaning Data"
   ]
  },
  {
   "cell_type": "code",
   "execution_count": null,
   "metadata": {},
   "outputs": [],
   "source": [
    "day_df[\"temp\"] = day_df[\"temp\"]*41\n",
    "day_df[\"atemp\"] = day_df[\"atemp\"]*50\n",
    "day_df[\"hum\"] = day_df[\"hum\"]*100\n",
    "day_df[\"windspeed\"] = day_df[\"windspeed\"]*67"
   ]
  },
  {
   "cell_type": "code",
   "execution_count": null,
   "metadata": {},
   "outputs": [],
   "source": [
    "day_df.describe()"
   ]
  },
  {
   "cell_type": "code",
   "execution_count": null,
   "metadata": {},
   "outputs": [],
   "source": [
    "hour_df[\"temp\"] = hour_df[\"temp\"]*41\n",
    "hour_df[\"atemp\"] = hour_df[\"atemp\"]*50\n",
    "hour_df[\"hum\"] = hour_df[\"hum\"]*100\n",
    "hour_df[\"windspeed\"] = hour_df[\"windspeed\"]*67"
   ]
  },
  {
   "cell_type": "code",
   "execution_count": null,
   "metadata": {},
   "outputs": [],
   "source": [
    "hour_df.describe()"
   ]
  },
  {
   "cell_type": "code",
   "execution_count": null,
   "metadata": {},
   "outputs": [],
   "source": [
    "day_df['dteday'] = pd.to_datetime(day_df['dteday'])\n",
    "hour_df['dteday'] = pd.to_datetime(hour_df['dteday'])"
   ]
  },
  {
   "cell_type": "code",
   "execution_count": null,
   "metadata": {},
   "outputs": [],
   "source": [
    "categorical_cols = ['season', 'yr', 'mnth', 'holiday', 'weekday', 'workingday', 'weathersit']\n",
    "for col in categorical_cols:\n",
    "    day_df[col] = day_df[col].astype('category')\n",
    "    hour_df[col] = hour_df[col].astype('category')"
   ]
  },
  {
   "cell_type": "code",
   "execution_count": null,
   "metadata": {},
   "outputs": [],
   "source": [
    "print(\"\\nTipe data setelah cleaning dan transformasi (day_df):\")\n",
    "day_df.info()"
   ]
  },
  {
   "cell_type": "code",
   "execution_count": null,
   "metadata": {},
   "outputs": [],
   "source": [
    "print(\"\\nTipe data setelah cleaning dan transformasi (hour_df):\")\n",
    "hour_df.info()"
   ]
  },
  {
   "cell_type": "code",
   "execution_count": null,
   "metadata": {},
   "outputs": [],
   "source": [
    "print(\"\\nPreview data yang sudah dibersihkan dan ditransformasi (day_df):\")\n",
    "day_df.head()"
   ]
  },
  {
   "cell_type": "code",
   "execution_count": null,
   "metadata": {},
   "outputs": [],
   "source": [
    "print(\"\\nPreview data yang sudah dibersihkan dan ditransformasi (day_df):\")\n",
    "hour_df.head()"
   ]
  },
  {
   "cell_type": "markdown",
   "metadata": {
    "id": "Q_5ejIqckiSP"
   },
   "source": [
    "**Insight:**\n",
    "- Nilai pada kolom temp, atemp, hum, dan windspeed telah didenormalisasi ke satuan aslinya untuk mempermudah interpretasi.\n",
    "- Kolom dteday dikonversi ke tipe datetime, dan beberapa kolom lain diubah menjadi tipe data kategori untuk memaksimalkan efisiensi memori."
   ]
  },
  {
   "cell_type": "markdown",
   "metadata": {
    "id": "gp-Y6wU38DC1"
   },
   "source": [
    "## Exploratory Data Analysis (EDA)"
   ]
  },
  {
   "cell_type": "markdown",
   "metadata": {
    "id": "MW7WF2kr8DC1"
   },
   "source": [
    "### Explore"
   ]
  },
  {
   "cell_type": "code",
   "execution_count": null,
   "metadata": {
    "id": "e9CQCZjk8DC2",
    "scrolled": true
   },
   "outputs": [],
   "source": [
    "#----------day_df----------\n",
    "day_df.describe(include=\"all\")"
   ]
  },
  {
   "cell_type": "code",
   "execution_count": null,
   "metadata": {},
   "outputs": [],
   "source": [
    "# Menggunakan observed=False untuk menonaktifkan perubahan default\n",
    "day_df.groupby(by=\"season\", observed=True).agg({\n",
    "    \"instant\": \"nunique\",\n",
    "    \"casual\": [\"max\", \"min\", \"mean\", \"sum\"],\n",
    "    \"registered\": [\"max\", \"min\", \"mean\", \"sum\"],\n",
    "    \"cnt\": [\"max\", \"min\", \"mean\", \"sum\"]\n",
    "})"
   ]
  },
  {
   "cell_type": "code",
   "execution_count": null,
   "metadata": {},
   "outputs": [],
   "source": [
    "day_df.groupby(by=\"weathersit\", observed=True).agg({\n",
    "    \"instant\": \"nunique\",\n",
    "    \"casual\": [\"max\", \"min\", \"mean\", \"sum\"],\n",
    "    \"registered\": [\"max\", \"min\", \"mean\", \"sum\"],\n",
    "    \"cnt\": [\"max\", \"min\", \"mean\", \"sum\"]\n",
    "})\n",
    "#Casual 2 3 1 4\n",
    "#Registered 3 4 2 1"
   ]
  },
  {
   "cell_type": "code",
   "execution_count": null,
   "metadata": {},
   "outputs": [],
   "source": [
    "day_df.groupby(by=\"holiday\", observed=True).agg({\n",
    "    \"instant\": \"nunique\",\n",
    "    \"casual\": [\"max\", \"min\", \"mean\", \"sum\"],\n",
    "    \"registered\": [\"max\", \"min\", \"mean\", \"sum\"],\n",
    "    \"cnt\": [\"max\", \"min\", \"mean\", \"sum\"]\n",
    "})\n",
    "#Casual 2 3 1 4\n",
    "#Registered 3 4 2 1"
   ]
  },
  {
   "cell_type": "code",
   "execution_count": null,
   "metadata": {},
   "outputs": [],
   "source": [
    "day_df.groupby(by=\"workingday\", observed=True).agg({\n",
    "    \"instant\": \"nunique\",\n",
    "    \"casual\": [\"max\", \"min\", \"mean\", \"sum\"],\n",
    "    \"registered\": [\"max\", \"min\", \"mean\", \"sum\"],\n",
    "    \"cnt\": [\"max\", \"min\", \"mean\", \"sum\"]\n",
    "})\n",
    "#Casual 2 3 1 4\n",
    "#Registered 3 4 2 1"
   ]
  },
  {
   "cell_type": "code",
   "execution_count": null,
   "metadata": {},
   "outputs": [],
   "source": [
    "day_df.groupby(by=\"weekday\", observed=True).agg({\n",
    "    \"instant\": \"nunique\",\n",
    "    \"casual\": [\"max\", \"min\", \"mean\", \"sum\"],\n",
    "    \"registered\": [\"max\", \"min\", \"mean\", \"sum\"],\n",
    "    \"cnt\": [\"max\", \"min\", \"mean\", \"sum\"]\n",
    "})\n",
    "#Casual 2 3 1 4\n",
    "#Registered 3 4 2 1"
   ]
  },
  {
   "cell_type": "code",
   "execution_count": null,
   "metadata": {},
   "outputs": [],
   "source": [
    "day_df.groupby(by=\"mnth\", observed=True).agg({\n",
    "    \"instant\": \"nunique\",\n",
    "    \"casual\": [\"max\", \"min\", \"mean\", \"sum\"],\n",
    "    \"registered\": [\"max\", \"min\", \"mean\", \"sum\"],\n",
    "    \"cnt\": [\"max\", \"min\", \"mean\", \"sum\"]\n",
    "})\n",
    "#Casual 2 3 1 4\n",
    "#Registered 3 4 2 1"
   ]
  },
  {
   "cell_type": "code",
   "execution_count": null,
   "metadata": {},
   "outputs": [],
   "source": [
    "#----------hour_df----------\n",
    "hour_df.describe(include=\"all\")"
   ]
  },
  {
   "cell_type": "code",
   "execution_count": null,
   "metadata": {},
   "outputs": [],
   "source": [
    "hour_df.groupby(by=\"season\", observed=True).agg({\n",
    "    \"instant\": \"nunique\",\n",
    "    \"casual\": [\"max\", \"min\", \"mean\",\"sum\"],\n",
    "    \"registered\": [\"max\", \"min\", \"mean\",\"sum\"],\n",
    "    \"cnt\": [\"max\", \"min\", \"mean\",\"sum\"]\n",
    "})\n",
    "#Casual 2 3 1 4\n",
    "#Registered 3 4 2 1"
   ]
  },
  {
   "cell_type": "code",
   "execution_count": null,
   "metadata": {},
   "outputs": [],
   "source": [
    "hour_df.groupby(by=\"weathersit\", observed=True).agg({\n",
    "    \"instant\": \"nunique\",\n",
    "    \"casual\": [\"max\", \"min\", \"mean\",\"sum\"],\n",
    "    \"registered\": [\"max\", \"min\", \"mean\",\"sum\"],\n",
    "    \"cnt\": [\"max\", \"min\", \"mean\",\"sum\"]\n",
    "})\n",
    "#Casual 2 3 1 4\n",
    "#Registered 3 4 2 1"
   ]
  },
  {
   "cell_type": "code",
   "execution_count": null,
   "metadata": {},
   "outputs": [],
   "source": [
    "hour_df.groupby(by=\"workingday\", observed=True).agg({\n",
    "    \"instant\": \"nunique\",\n",
    "    \"casual\": [\"max\", \"min\", \"mean\",\"sum\"],\n",
    "    \"registered\": [\"max\", \"min\", \"mean\",\"sum\"],\n",
    "    \"cnt\": [\"max\", \"min\", \"mean\",\"sum\"]\n",
    "})\n",
    "#Casual 2 3 1 4\n",
    "#Registered 3 4 2 1"
   ]
  },
  {
   "cell_type": "code",
   "execution_count": null,
   "metadata": {},
   "outputs": [],
   "source": [
    "hour_df.groupby(by=\"weekday\", observed=True).agg({\n",
    "    \"instant\": \"nunique\",\n",
    "    \"casual\": [\"max\", \"min\", \"mean\",\"sum\"],\n",
    "    \"registered\": [\"max\", \"min\", \"mean\",\"sum\"],\n",
    "    \"cnt\": [\"max\", \"min\", \"mean\",\"sum\"]\n",
    "})\n",
    "#Casual 2 3 1 4\n",
    "#Registered 3 4 2 1"
   ]
  },
  {
   "cell_type": "code",
   "execution_count": null,
   "metadata": {},
   "outputs": [],
   "source": [
    "hour_df.groupby(by=\"yr\", observed=True).agg({\n",
    "    \"instant\": \"nunique\",\n",
    "    \"casual\": [\"max\", \"min\", \"mean\",\"sum\"],\n",
    "    \"registered\": [\"max\", \"min\", \"mean\",\"sum\"],\n",
    "    \"cnt\": [\"max\", \"min\", \"mean\",\"sum\"]\n",
    "})\n",
    "#Casual 2 3 1 4\n",
    "#Registered 3 4 2 1"
   ]
  },
  {
   "cell_type": "code",
   "execution_count": null,
   "metadata": {},
   "outputs": [],
   "source": [
    "hour_df.groupby(by=\"mnth\", observed=True).agg({\n",
    "    \"instant\": \"nunique\",\n",
    "    \"casual\": [\"max\", \"min\", \"mean\",\"sum\"],\n",
    "    \"registered\": [\"max\", \"min\", \"mean\",\"sum\"],\n",
    "    \"cnt\": [\"max\", \"min\", \"mean\",\"sum\"]\n",
    "})\n",
    "#Casual 2 3 1 4\n",
    "#Registered 3 4 2 1"
   ]
  },
  {
   "cell_type": "code",
   "execution_count": null,
   "metadata": {},
   "outputs": [],
   "source": [
    "hour_df.groupby(by=\"hr\").agg({\n",
    "    \"instant\": \"nunique\",\n",
    "    \"casual\": [\"max\", \"min\", \"mean\",\"sum\"],\n",
    "    \"registered\": [\"max\", \"min\", \"mean\",\"sum\"],\n",
    "    \"cnt\": [\"max\", \"min\", \"mean\",\"sum\"]\n",
    "})\n",
    "#Casual 2 3 1 4\n",
    "#Registered 3 4 2 1"
   ]
  },
  {
   "cell_type": "code",
   "execution_count": null,
   "metadata": {},
   "outputs": [],
   "source": [
    "hour_df.groupby(by=[\"season\",\"mnth\", \"weathersit\"], observed=True).agg({\n",
    "    # \"instant\": \"nunique\",\n",
    "    \"casual\": [\"sum\"],\n",
    "    \"registered\": [\"sum\"],\n",
    "    \"cnt\": [\"sum\"],\n",
    "})\n",
    "#Casual 2 3 1 4\n",
    "#Registered 3 4 2 1"
   ]
  },
  {
   "cell_type": "code",
   "execution_count": null,
   "metadata": {},
   "outputs": [],
   "source": [
    "# # Mengelompokkan data berdasarkan musim dan kategori cuaca\n",
    "season_rentals_weather = hour_df.groupby([\"season\", \"mnth\"], observed=False).agg({\n",
    "    \"cnt\": \"mean\"\n",
    "}).reset_index()\n",
    "\n",
    "# Mengganti nomor musim dengan nama musim\n",
    "season_rentals_weather[\"season\"] = season_rentals_weather[\"season\"].astype(str).replace({\n",
    "    \"1\": \"Spring\", \"2\": \"Summer\", \"3\": \"Fall\", \"4\": \"Winter\"\n",
    "})\n",
    "\n",
    "# Membuat tabel pivot dengan 'season' sebagai indeks dan 'weathersit' sebagai kolom\n",
    "pivot_table = season_rentals_weather.pivot_table(\n",
    "    values=\"cnt\", \n",
    "    index=\"season\", \n",
    "    columns=\"mnth\", \n",
    "    aggfunc=\"mean\", \n",
    "    observed=False  # Menambahkan observed=False untuk menghindari peringatan\n",
    ")\n",
    "\n",
    "# Menampilkan tabel\n",
    "pivot_table"
   ]
  },
  {
   "cell_type": "code",
   "execution_count": null,
   "metadata": {},
   "outputs": [],
   "source": [
    "month_rentals_weather = hour_df.groupby([\"mnth\", \"weathersit\"], observed=False).agg({\n",
    "    \"cnt\": \"mean\"\n",
    "}).reset_index()\n",
    "# Membuat tabel pivot dengan 'mnth' sebagai indeks dan 'weathersit' sebagai kolom\n",
    "pivot_table = month_rentals_weather.pivot_table(\n",
    "    values=\"cnt\", \n",
    "    index=\"mnth\", \n",
    "    columns=\"weathersit\", \n",
    "    aggfunc=\"mean\",\n",
    "    observed=False  # Menetapkan secara eksplisit untuk menghilangkan peringatan\n",
    ")\n",
    "\n",
    "# Menambahkan nama kolom untuk kategori cuaca\n",
    "pivot_table.columns = [f\"Weather {col}\" for col in pivot_table.columns]\n",
    "\n",
    "# Menambahkan nama bulan untuk indeks\n",
    "pivot_table.index = [\n",
    "    \"Jan\", \"Feb\", \"Mar\", \"Apr\", \"May\", \"Jun\", \n",
    "    \"Jul\", \"Aug\", \"Sep\", \"Oct\", \"Nov\", \"Dec\"\n",
    "]\n",
    "\n",
    "# Menampilkan tabel\n",
    "pivot_table\n"
   ]
  },
  {
   "cell_type": "code",
   "execution_count": null,
   "metadata": {},
   "outputs": [],
   "source": [
    "# Mengelompokkan data berdasarkan bulan, musim, dan cuaca\n",
    "avg_rentals_weather_season = hour_df.groupby([\"mnth\", \"season\", \"weathersit\"], observed=False).agg({\n",
    "    \"cnt\": \"mean\"\n",
    "}).reset_index()\n",
    "\n",
    "# Membuat tabel pivot dengan nilai rata-rata sewa sepeda\n",
    "pivot_table = avg_rentals_weather_season.pivot_table(\n",
    "    values=\"cnt\", \n",
    "    index=[\"mnth\"], \n",
    "    columns=[\"season\", \"weathersit\"], \n",
    "    aggfunc=\"mean\", \n",
    "    observed=False  \n",
    ")\n",
    "\n",
    "# Menambahkan nama bulan ke indeks tabel\n",
    "pivot_table.index = [\n",
    "    \"Jan\", \"Feb\", \"Mar\", \"Apr\", \"May\", \"Jun\", \n",
    "    \"Jul\", \"Aug\", \"Sep\", \"Oct\", \"Nov\", \"Dec\"\n",
    "]\n",
    "\n",
    "# Menampilkan tabel\n",
    "pivot_table\n"
   ]
  },
  {
   "cell_type": "markdown",
   "metadata": {
    "id": "th_Lzl2Fkj9O"
   },
   "source": [
    "**Insight:**\n",
    "\n",
    "## 1. Pengaruh Cuaca terhadap Penyewaan Sepeda\n",
    "- Terdapat perbedaan signifikan dalam jumlah penyewaan sepeda berdasarkan kondisi cuaca. Cuaca cerah (Clear) menunjukkan jumlah penyewaan tertinggi dibandingkan cuaca mendung, hujan ringan, atau hujan lebat.\n",
    "- Saat cuaca hujan atau berkabut, jumlah penyewaan sepeda cenderung menurun, menunjukkan bahwa pengguna sepeda lebih memilih untuk tidak bersepeda dalam kondisi cuaca yang buruk.\n",
    "\n",
    "## 2. Tren Musiman Penyewaan Sepeda\n",
    "- Penyewaan sepeda cenderung meningkat pada musim panas (Summer) dan menurun pada musim dingin (Winter), yang mengindikasikan bahwa cuaca yang lebih hangat mendorong lebih banyak orang untuk bersepeda.\n",
    "- Di musim gugur (Fall) dan semi (Spring), jumlah penyewaan sepeda lebih bervariasi, kemungkinan dipengaruhi oleh fluktuasi cuaca dan perubahan suhu.\n",
    "\n",
    "## 3. Bulan dengan Penyewaan Sepeda Terendah\n",
    "- Bulan-bulan musim dingin, seperti Januari dan Desember, menunjukkan jumlah penyewaan yang lebih rendah dibandingkan bulan lainnya. Hal ini kemungkinan disebabkan oleh cuaca yang lebih dingin dan kondisi yang kurang mendukung untuk bersepeda.\n",
    "\n",
    "## 4. Korelasi antara Cuaca dan Jumlah Penyewaan\n",
    "- Cuaca cerah cenderung memiliki korelasi positif yang kuat dengan jumlah penyewaan sepeda. Sebaliknya, cuaca buruk, seperti hujan atau kabut, memiliki korelasi negatif yang lebih tinggi dengan jumlah penyewaan.\n",
    "\n",
    "## 5. Perbedaan Penyewaan Sepeda Berdasarkan Jam\n",
    "- Penyewaan sepeda lebih tinggi pada jam-jam sibuk, terutama pada pagi dan sore hari, yang mungkin terkait dengan penggunaan sepeda untuk pergi ke kantor atau aktivitas lainnya.\n",
    "\n",
    "## 6. Dampak Hari Libur atau Acara Khusus\n",
    "- Pada beberapa hari tertentu, misalnya akhir pekan atau hari libur nasional, terdapat lonjakan penyewaan sepeda. Hal ini menunjukkan bahwa orang cenderung lebih aktif bersepeda pada waktu-waktu tersebut, terutama jika cuaca mendukung.\n"
   ]
  },
  {
   "cell_type": "markdown",
   "metadata": {
    "id": "zsyZjqak8DC2"
   },
   "source": [
    "## Visualization & Explanatory Analysis"
   ]
  },
  {
   "cell_type": "code",
   "execution_count": null,
   "metadata": {
    "id": "1swJUdAD8DC2"
   },
   "outputs": [],
   "source": [
    "# Menghitung rata-rata penyewaan per bulan\n",
    "monthly_avg_rentals = hour_df.groupby(\"mnth\", observed=False).agg({\n",
    "    \"cnt\": \"mean\"\n",
    "}).reset_index()\n",
    "\n",
    "# Mengonversi kolom bulan ke nama bulan\n",
    "monthly_avg_rentals[\"mnth\"] = monthly_avg_rentals[\"mnth\"].astype(str).replace({\n",
    "    \"1\": \"January\", \"2\": \"February\", \"3\": \"March\", \"4\": \"April\", \"5\": \"May\", \"6\": \"June\",\n",
    "    \"7\": \"July\", \"8\": \"August\", \"9\": \"September\", \"10\": \"October\", \"11\": \"November\", \"12\": \"December\"\n",
    "})\n",
    "\n",
    "# Membuat grafik bar\n",
    "plt.figure(figsize=(12, 6))\n",
    "plt.bar(monthly_avg_rentals[\"mnth\"], monthly_avg_rentals[\"cnt\"], color=\"#FFB347\")\n",
    "\n",
    "# Menambahkan judul dan label\n",
    "plt.title(\"Average Bike Rentals per Month\", fontsize=16)\n",
    "plt.xlabel(\"Month\", fontsize=12)\n",
    "plt.ylabel(\"Average Rentals (cnt)\", fontsize=12)\n",
    "\n",
    "# Memutar label bulan agar lebih mudah dibaca\n",
    "plt.xticks(rotation=45)\n",
    "\n",
    "# Menambahkan grid pada sumbu y\n",
    "plt.grid(axis=\"y\", linestyle=\"--\", alpha=0.7)\n",
    "\n",
    "# Menyesuaikan layout untuk mencegah label terpotong\n",
    "plt.tight_layout()\n",
    "\n",
    "# Menampilkan grafik\n",
    "plt.show()"
   ]
  },
  {
   "cell_type": "markdown",
   "metadata": {
    "id": "HZxOiQ6n8DC2"
   },
   "source": [
    "### Pertanyaan 1:"
   ]
  },
  {
   "cell_type": "code",
   "execution_count": null,
   "metadata": {},
   "outputs": [],
   "source": [
    "# Diagram batang per musim dan kategori cuaca\n",
    "# Mengelompokkan data berdasarkan musim dan kategori cuaca\n",
    "season_rentals_weather = hour_df.groupby([\"season\", \"weathersit\"], observed=False).agg({\n",
    "    \"cnt\": \"mean\"\n",
    "}).reset_index()\n",
    "\n",
    "# Lebar bar\n",
    "bar_width = 0.2\n",
    "\n",
    "# Posisi unik untuk setiap kategori cuaca\n",
    "categories = season_rentals_weather[\"weathersit\"].unique()\n",
    "positions = range(len(season_rentals_weather[\"season\"].unique()))\n",
    "\n",
    "# Membuat figure\n",
    "plt.figure(figsize=(16, 8))\n",
    "\n",
    "# Loop melalui setiap kategori cuaca\n",
    "for i, category in enumerate(categories):\n",
    "    category_data = season_rentals_weather[season_rentals_weather[\"weathersit\"] == category]\n",
    "    plt.bar(\n",
    "        [p + i * bar_width for p in positions], \n",
    "        category_data[\"cnt\"], \n",
    "        width=bar_width, \n",
    "        label=f\"Weather {category}\"\n",
    "    )\n",
    "\n",
    "# Penyesuaian sumbu X (Musim)\n",
    "plt.xticks(\n",
    "    [p + (len(categories) - 1) * bar_width / 2 for p in positions],\n",
    "    [\"Spring\", \"Summer\", \"Fall\", \"Winter\"],  # Menampilkan nama musim\n",
    "    rotation=0\n",
    ")\n",
    "\n",
    "# Menambahkan elemen grafis\n",
    "plt.title(\"Average Bike Rentals per Season by Weather\", fontsize=16)\n",
    "plt.xlabel(\"Season\", fontsize=12)\n",
    "plt.ylabel(\"Average Rentals (cnt)\", fontsize=12)\n",
    "plt.legend(title=\"Weather Situation\", fontsize=10)\n",
    "plt.grid(axis=\"y\", linestyle=\"--\", alpha=0.7)\n",
    "plt.tight_layout()\n",
    "\n",
    "# Menampilkan grafik\n",
    "plt.show()\n"
   ]
  },
  {
   "cell_type": "markdown",
   "metadata": {
    "id": "DgHI7CiU8DC2"
   },
   "source": [
    "### Pertanyaan 2:"
   ]
  },
  {
   "cell_type": "code",
   "execution_count": null,
   "metadata": {},
   "outputs": [],
   "source": [
    "# Lebar bar\n",
    "bar_width = 0.2\n",
    "\n",
    "# Posisi unik untuk setiap kategori cuaca\n",
    "categories = month_rentals_weather[\"weathersit\"].unique()\n",
    "positions = range(len(month_rentals_weather[\"mnth\"].unique()))\n",
    "\n",
    "# Membuat figure\n",
    "plt.figure(figsize=(16, 8))\n",
    "\n",
    "# Loop melalui setiap kategori cuaca\n",
    "for i, category in enumerate(categories):\n",
    "    category_data = month_rentals_weather[month_rentals_weather[\"weathersit\"] == category]\n",
    "    plt.bar(\n",
    "        [p + i * bar_width for p in positions], \n",
    "        category_data[\"cnt\"], \n",
    "        width=bar_width, \n",
    "        label=f\"Weather {category}\"\n",
    "    )\n",
    "\n",
    "# Penyesuaian sumbu X\n",
    "plt.xticks(\n",
    "    [p + (len(categories) - 1) * bar_width / 2 for p in positions],\n",
    "    month_rentals_weather[\"mnth\"].unique(),\n",
    "    rotation=45\n",
    ")\n",
    "\n",
    "# Menambahkan elemen grafis\n",
    "plt.title(\"Average Bike Rentals per Month by Weather\", fontsize=16)\n",
    "plt.xlabel(\"Month\", fontsize=12)\n",
    "plt.ylabel(\"Average Rentals (cnt)\", fontsize=12)\n",
    "plt.legend(title=\"Weather Situation\", fontsize=10)\n",
    "plt.grid(axis=\"y\", linestyle=\"--\", alpha=0.7)\n",
    "plt.tight_layout()\n",
    "\n",
    "# Menampilkan grafik\n",
    "plt.show()\n"
   ]
  },
  {
   "cell_type": "markdown",
   "metadata": {
    "id": "_0-36BDLklRg"
   },
   "source": [
    "**Insight:**\n",
    "- 1.1. Pola Musiman Penyewaan Sepeda:\n",
    "Spring (Musim Semi): Penyewaan sepeda pada musim semi menunjukkan kecenderungan meningkat pada bulan Maret hingga Mei, dengan rata-rata penyewaan tertinggi tercatat pada bulan Maret (149.7 penyewaan) dan sedikit menurun di bulan April dan Mei. Pada bulan-bulan lainnya, data penyewaan tidak tersedia.\n",
    "Summer (Musim Panas): Pada musim panas, data penyewaan terlihat lebih konsisten, dengan rata-rata penyewaan tinggi pada bulan Juni hingga Agustus, terutama di bulan Juni dan Juli yang mencatatkan angka sekitar 240 penyewaan. Hal ini menunjukkan bahwa musim panas adalah periode dengan jumlah penyewaan sepeda yang tinggi.\n",
    "Fall (Musim Gugur): Musim gugur menunjukkan penyewaan sepeda yang relatif stabil pada bulan Juni hingga September, dengan angka penyewaan mencapai sekitar 240-238 sepeda per hari pada bulan-bulan tersebut. Namun, data untuk bulan lainnya tidak tersedia, yang mungkin mencerminkan pengurangan penyewaan pada bulan-bulan lainnya.\n",
    "Winter (Musim Dingin): Pada musim dingin, penyewaan sepeda menunjukkan angka yang lebih rendah, dengan puncaknya tercatat pada bulan September (251.0 penyewaan), yang kemudian menurun pada bulan Oktober hingga Desember, dengan rata-rata sekitar 175-222 penyewaan sepeda. Ini menunjukkan bahwa meskipun musim dingin memiliki penyewaan sepeda yang lebih rendah dibandingkan musim lainnya, beberapa bulan seperti September tetap menunjukkan angka tinggi.\n",
    "- 1.2. Tren Bulanan:\n",
    "Bulan dengan Penyewaan Tertinggi: Penyewaan sepeda cenderung lebih tinggi pada bulan-bulan musim panas (Juni dan Juli) serta beberapa bulan musim gugur seperti September.\n",
    "Bulan dengan Penyewaan Terendah: Penyewaan sepeda sangat rendah pada bulan-bulan musim semi dan musim dingin, terutama pada bulan-bulan yang tidak tercatat dalam data.\n",
    "- 1.3. Pengaruh Musim Terhadap Penyewaan:\n",
    "Penyewaan sepeda secara umum lebih tinggi pada musim panas dan gugur, yang merupakan periode cuaca lebih hangat dan lebih kondusif untuk beraktivitas luar ruangan.\n",
    "Pada musim dingin, meskipun masih ada beberapa penyewaan, angka tersebut lebih rendah, mengindikasikan bahwa cuaca dingin mengurangi minat orang untuk menyewa sepeda.\n",
    "Musim semi menunjukkan fluktuasi yang lebih besar, dengan bulan-bulan tertentu yang menunjukkan penyewaan tinggi (Maret), namun berkurang di bulan-bulan lainnya.\n",
    "\n",
    "\n",
    "\n",
    "- 2.1 Pengaruh Cuaca terhadap Penyewaan Sepeda: Cuaca Jernih (Weathersit 1): Secara umum, cuaca jernih (weathersit 1) cenderung memiliki jumlah penyewaan sepeda tertinggi dibandingkan kategori cuaca lainnya. Penyewaan tertinggi tercatat pada bulan September (271.95 penyewaan), diikuti oleh bulan Juni (250.86 penyewaan), dan Agustus (237.89 penyewaan). Hal ini menunjukkan bahwa cuaca cerah sangat mendukung penyewaan sepeda yang lebih tinggi, terutama di bulan-bulan musim panas dan awal musim gugur.\n",
    "Cuaca Kabut (Weathersit 2): Cuaca kabut (weathersit 2) menunjukkan angka penyewaan yang lebih rendah dibandingkan cuaca cerah, namun masih relatif tinggi. Bulan Agustus mencatatkan penyewaan yang tinggi (249.21 penyewaan), diikuti oleh bulan Juli (224.98 penyewaan) dan Juni (223.48 penyewaan). Penyewaan pada bulan-bulan ini mungkin sedikit terpengaruh oleh kabut, tetapi masih tinggi karena cuaca yang relatif baik.\n",
    "Hujan Ringan (Weathersit 3): Cuaca hujan ringan (weathersit 3) menunjukkan angka penyewaan yang lebih rendah dibandingkan dua kategori cuaca di atas. Bulan Agustus masih menunjukkan angka yang lebih tinggi (202.08 penyewaan), tetapi bulan-bulan lainnya, seperti Januari, Februari, dan Maret, memiliki penyewaan yang jauh lebih rendah. Penyewaan sepeda pada cuaca hujan ringan cenderung lebih terbatas.\n",
    "Hujan Lebat (Weathersit 4): Pada cuaca hujan lebat (weathersit 4), data tidak tersedia untuk sebagian besar bulan, dan hanya tercatat pada bulan Januari dengan rata-rata 74.33 penyewaan sepeda. Ini mengindikasikan bahwa hujan lebat sangat membatasi minat orang untuk menyewa sepeda, yang sesuai dengan harapan bahwa hujan lebat akan mengurangi aktivitas luar ruangan.\n",
    "- 2.2 Pola Penyewaan Berdasarkan Bulan:\n",
    "Bulan dengan penyewaan tertinggi secara umum adalah bulan-bulan dengan cuaca cerah (weathersit 1), seperti September, Juni, dan Agustus, yang biasanya berada di musim panas dan awal musim gugur.\n",
    "Penyewaan terendah biasanya terjadi pada bulan dengan cuaca lebih buruk, seperti Januari, yang menunjukkan lebih banyak penyewaan di cuaca cerah tetapi sangat sedikit saat hujan lebat.\n",
    "- 2.3 Kesimpulan Umum:\n",
    "Cuaca cerah (weathersit 1) cenderung mendorong jumlah penyewaan sepeda tertinggi, terutama pada bulan-bulan musim panas dan awal musim gugur, yang menunjukkan bahwa orang lebih cenderung untuk bersepeda ketika cuaca cerah.\n",
    "Cuaca kabut (weathersit 2) masih memberikan penyewaan yang cukup tinggi, meskipun lebih rendah dibandingkan cuaca cerah, namun tetap mendukung aktivitas bersepeda.\n",
    "Cuaca hujan ringan (weathersit 3) menyebabkan penurunan jumlah penyewaan, tetapi tidak terlalu signifikan, dan penyewaan masih dapat terjadi, terutama pada bulan-bulan yang lebih hangat.\n",
    "Cuaca hujan lebat (weathersit 4) sangat membatasi penyewaan sepeda, dengan penyewaan yang hampir tidak terjadi pada kondisi hujan lebat."
   ]
  },
  {
   "cell_type": "markdown",
   "metadata": {
    "id": "9y4VUsmcYNZ5"
   },
   "source": [
    "## Analisis Lanjutan (Opsional)"
   ]
  },
  {
   "cell_type": "code",
   "execution_count": null,
   "metadata": {},
   "outputs": [],
   "source": [
    "# Menghitung rata-rata penyewaan sepeda berdasarkan kategori cuaca\n",
    "weather_rentals = hour_df.groupby(\"weathersit\", observed=False)[\"cnt\"].mean()\n",
    "\n",
    "# Menentukan label dan data untuk pie chart\n",
    "labels = weather_rentals.index\n",
    "sizes = weather_rentals.values\n",
    "\n",
    "# Membuat pie chart\n",
    "plt.figure(figsize=(8, 8))\n",
    "plt.pie(sizes, labels=labels, autopct=\"%1.1f%%\", startangle=140, colors=[\"#ff9999\", \"#66b3ff\", \"#99ff99\", \"#ffcc99\"])\n",
    "plt.title(\"Korelasi antara Cuaca dan Jumlah Penyewaan Sepeda\", fontsize=16)\n",
    "plt.axis(\"equal\")  # Membuat pie chart berbentuk lingkaran\n",
    "plt.show()"
   ]
  },
  {
   "cell_type": "code",
   "execution_count": null,
   "metadata": {},
   "outputs": [],
   "source": [
    "# Mengelompokkan data berdasarkan jam dan menghitung rata-rata penyewaan sepeda per jam\n",
    "hourly_rentals = hour_df.groupby(\"hr\")[\"cnt\"].mean().reset_index()\n",
    "\n",
    "# Membuat diagram garis\n",
    "plt.figure(figsize=(10, 6))\n",
    "plt.plot(hourly_rentals[\"hr\"], hourly_rentals[\"cnt\"], marker='o', color=\"b\", linestyle='-', linewidth=2, markersize=6)\n",
    "\n",
    "# Menambahkan elemen grafis\n",
    "plt.title(\"Perbedaan Penyewaan Sepeda Berdasarkan Jam\", fontsize=16)\n",
    "plt.xlabel(\"Jam\", fontsize=12)\n",
    "plt.ylabel(\"Rata-rata Penyewaan Sepeda\", fontsize=12)\n",
    "plt.xticks(hourly_rentals[\"hr\"], rotation=45)\n",
    "plt.grid(True)\n",
    "\n",
    "# Menampilkan grafik\n",
    "plt.tight_layout()\n",
    "plt.show()\n"
   ]
  },
  {
   "cell_type": "code",
   "execution_count": null,
   "metadata": {},
   "outputs": [],
   "source": [
    "# Mengelompokkan data berdasarkan hari libur (holiday) dan menghitung rata-rata penyewaan sepeda\n",
    "holiday_rentals = hour_df.groupby(\"holiday\", observed=False)[\"cnt\"].mean().reset_index()\n",
    "\n",
    "# Membuat diagram batang\n",
    "plt.figure(figsize=(8, 6))\n",
    "plt.bar(holiday_rentals[\"holiday\"].astype(str), holiday_rentals[\"cnt\"], color=[\"blue\", \"orange\"])\n",
    "\n",
    "# Menambahkan elemen grafis\n",
    "plt.title(\"Dampak Hari Libur terhadap Penyewaan Sepeda\", fontsize=16)\n",
    "plt.xlabel(\"Hari Libur (0 = Bukan Libur, 1 = Libur)\", fontsize=12)\n",
    "plt.ylabel(\"Rata-rata Penyewaan Sepeda\", fontsize=12)\n",
    "plt.xticks([0, 1], [\"Bukan Libur\", \"Libur\"], rotation=0)\n",
    "plt.grid(True, axis=\"y\", linestyle=\"--\", alpha=0.7)\n",
    "\n",
    "# Menampilkan grafik\n",
    "plt.tight_layout()\n",
    "plt.show()\n"
   ]
  },
  {
   "cell_type": "code",
   "execution_count": null,
   "metadata": {},
   "outputs": [],
   "source": [
    "# Membuat heatmap\n",
    "plt.figure(figsize=(16, 8))\n",
    "\n",
    "# Visualisasi menggunakan heatmap\n",
    "sns.heatmap(pivot_table, annot=True, cmap=\"YlGnBu\", fmt=\".1f\", cbar_kws={'label': 'Average Rentals (cnt)'})\n",
    "\n",
    "# Menambahkan elemen grafis\n",
    "plt.title(\"Average Bike Rentals per Month by Season and Weather\", fontsize=16)\n",
    "plt.xlabel(\"Season and Weather\", fontsize=12)\n",
    "plt.ylabel(\"Month\", fontsize=12)\n",
    "plt.xticks(rotation=45, ha=\"right\")  # Rotasi label sumbu X\n",
    "\n",
    "plt.tight_layout()\n",
    "\n",
    "# Menampilkan grafik\n",
    "plt.show()\n"
   ]
  },
  {
   "cell_type": "markdown",
   "metadata": {
    "id": "_WeHlCeX8DC2"
   },
   "source": [
    "## Conclusion"
   ]
  },
  {
   "cell_type": "markdown",
   "metadata": {
    "id": "ZTcyR48Y8DC2"
   },
   "source": [
    "- Penyewaan sepeda dipengaruhi oleh faktor musiman, dengan musim panas dan gugur cenderung memiliki angka penyewaan yang lebih tinggi, sedangkan musim dingin dan musim semi menunjukkan angka yang lebih rendah.\n",
    "- Penyewaan sepeda dipengaruhi secara signifikan oleh kondisi cuaca, dengan cuaca cerah mendorong penyewaan yang lebih tinggi, sedangkan hujan lebat sangat membatasi penyewaan sepeda."
   ]
  },
  {
   "cell_type": "markdown",
   "metadata": {
    "id": "ZTcyR48Y8DC2"
   },
   "source": [
    "- Musim panas dan gugur (Spring dan Summer) cenderung memiliki jumlah penyewaan tertinggi, terutama dengan cuaca cerah, diikuti oleh musim gugur dan musim semi dengan penurunan sedikit.\n",
    "- Cuaca cerah memiliki pengaruh besar dalam meningkatkan jumlah penyewaan sepeda, dengan beberapa bulan menunjukkan penyewaan tertinggi seperti bulan Juni, Agustus, dan September.\n",
    "- Cuaca hujan dan kabut cenderung menurunkan jumlah penyewaan sepeda, tetapi masih dapat terjadi, terutama pada bulan-bulan yang lebih hangat.\n",
    "- Cuaca hujan lebat mengurangi jumlah penyewaan secara drastis, menunjukkan bahwa penyewaan sepeda sangat terpengaruh oleh kondisi cuaca yang ekstrem."
   ]
  }
 ],
 "metadata": {
  "colab": {
   "provenance": []
  },
  "kernelspec": {
   "display_name": "Python 3",
   "language": "python",
   "name": "python3"
  },
  "language_info": {
   "codemirror_mode": {
    "name": "ipython",
    "version": 3
   },
   "file_extension": ".py",
   "mimetype": "text/x-python",
   "name": "python",
   "nbconvert_exporter": "python",
   "pygments_lexer": "ipython3",
   "version": "3.13.0"
  }
 },
 "nbformat": 4,
 "nbformat_minor": 4
}
